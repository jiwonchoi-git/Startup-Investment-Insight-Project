{
 "cells": [
  {
   "cell_type": "code",
   "execution_count": 1,
   "metadata": {},
   "outputs": [],
   "source": [
    "# import libraries\n",
    "import pandas as pd\n",
    "import numpy as np\n",
    "import matplotlib.pyplot as plt\n",
    "import seaborn as sns\n",
    "import os"
   ]
  },
  {
   "cell_type": "code",
   "execution_count": 2,
   "metadata": {},
   "outputs": [],
   "source": [
    "# font setting\n",
    "plt.rc('font', family='AppleGothic')\n",
    "# plt.rcParams['font.family'] = 'AppleGothic'\n",
    "\n",
    "plt.rcParams['axes.unicode_minus'] = False"
   ]
  },
  {
   "cell_type": "code",
   "execution_count": 4,
   "metadata": {},
   "outputs": [],
   "source": [
    "# read excel file\n",
    "\n",
    "df = pd.read_excel('./startup_investment.xlsx')\n"
   ]
  },
  {
   "cell_type": "code",
   "execution_count": 5,
   "metadata": {},
   "outputs": [
    {
     "data": {
      "text/html": [
       "<div>\n",
       "<style scoped>\n",
       "    .dataframe tbody tr th:only-of-type {\n",
       "        vertical-align: middle;\n",
       "    }\n",
       "\n",
       "    .dataframe tbody tr th {\n",
       "        vertical-align: top;\n",
       "    }\n",
       "\n",
       "    .dataframe thead th {\n",
       "        text-align: right;\n",
       "    }\n",
       "</style>\n",
       "<table border=\"1\" class=\"dataframe\">\n",
       "  <thead>\n",
       "    <tr style=\"text-align: right;\">\n",
       "      <th></th>\n",
       "      <th>Company Name</th>\n",
       "      <th>description</th>\n",
       "    </tr>\n",
       "  </thead>\n",
       "  <tbody>\n",
       "    <tr>\n",
       "      <th>0</th>\n",
       "      <td>ZYOD</td>\n",
       "      <td>Online B2B marketplace platform offering manuf...</td>\n",
       "    </tr>\n",
       "    <tr>\n",
       "      <th>1</th>\n",
       "      <td>ZYOD</td>\n",
       "      <td>Online B2B marketplace platform offering manuf...</td>\n",
       "    </tr>\n",
       "    <tr>\n",
       "      <th>2</th>\n",
       "      <td>ZYOD</td>\n",
       "      <td>Online B2B marketplace platform offering manuf...</td>\n",
       "    </tr>\n",
       "    <tr>\n",
       "      <th>3</th>\n",
       "      <td>ZYOD</td>\n",
       "      <td>Online B2B marketplace platform offering manuf...</td>\n",
       "    </tr>\n",
       "    <tr>\n",
       "      <th>4</th>\n",
       "      <td>Zygon</td>\n",
       "      <td>SaaS security solutions for automating the con...</td>\n",
       "    </tr>\n",
       "    <tr>\n",
       "      <th>...</th>\n",
       "      <td>...</td>\n",
       "      <td>...</td>\n",
       "    </tr>\n",
       "    <tr>\n",
       "      <th>2887</th>\n",
       "      <td>11x</td>\n",
       "      <td>Developer of autonomous AI agents to support p...</td>\n",
       "    </tr>\n",
       "    <tr>\n",
       "      <th>2888</th>\n",
       "      <td>11x</td>\n",
       "      <td>Developer of autonomous AI agents to support p...</td>\n",
       "    </tr>\n",
       "    <tr>\n",
       "      <th>2889</th>\n",
       "      <td>0xPass</td>\n",
       "      <td>Provider of web development services</td>\n",
       "    </tr>\n",
       "    <tr>\n",
       "      <th>2890</th>\n",
       "      <td>0pass</td>\n",
       "      <td>Multi factor authentication and passwordless l...</td>\n",
       "    </tr>\n",
       "    <tr>\n",
       "      <th>2891</th>\n",
       "      <td>0pass</td>\n",
       "      <td>Multi factor authentication and passwordless l...</td>\n",
       "    </tr>\n",
       "  </tbody>\n",
       "</table>\n",
       "<p>2892 rows × 2 columns</p>\n",
       "</div>"
      ],
      "text/plain": [
       "     Company Name                                        description\n",
       "0            ZYOD  Online B2B marketplace platform offering manuf...\n",
       "1            ZYOD  Online B2B marketplace platform offering manuf...\n",
       "2            ZYOD  Online B2B marketplace platform offering manuf...\n",
       "3            ZYOD  Online B2B marketplace platform offering manuf...\n",
       "4           Zygon  SaaS security solutions for automating the con...\n",
       "...           ...                                                ...\n",
       "2887          11x  Developer of autonomous AI agents to support p...\n",
       "2888          11x  Developer of autonomous AI agents to support p...\n",
       "2889       0xPass               Provider of web development services\n",
       "2890        0pass  Multi factor authentication and passwordless l...\n",
       "2891        0pass  Multi factor authentication and passwordless l...\n",
       "\n",
       "[2892 rows x 2 columns]"
      ]
     },
     "execution_count": 5,
     "metadata": {},
     "output_type": "execute_result"
    }
   ],
   "source": [
    "desc = df[['Company Name','description']]\n",
    "desc"
   ]
  },
  {
   "cell_type": "code",
   "execution_count": 6,
   "metadata": {},
   "outputs": [
    {
     "data": {
      "text/plain": [
       "(2892, 2)"
      ]
     },
     "execution_count": 6,
     "metadata": {},
     "output_type": "execute_result"
    }
   ],
   "source": [
    "desc.shape"
   ]
  },
  {
   "cell_type": "code",
   "execution_count": 7,
   "metadata": {},
   "outputs": [
    {
     "data": {
      "text/plain": [
       "(2234, 2)"
      ]
     },
     "execution_count": 7,
     "metadata": {},
     "output_type": "execute_result"
    }
   ],
   "source": [
    "desc = desc.drop_duplicates(keep='first')\n",
    "desc.shape"
   ]
  },
  {
   "cell_type": "code",
   "execution_count": 8,
   "metadata": {},
   "outputs": [
    {
     "name": "stdout",
     "output_type": "stream",
     "text": [
      "Requirement already satisfied: openai in /opt/anaconda3/lib/python3.12/site-packages (0.28.0)\n",
      "Requirement already satisfied: requests>=2.20 in /opt/anaconda3/lib/python3.12/site-packages (from openai) (2.32.2)\n",
      "Requirement already satisfied: tqdm in /opt/anaconda3/lib/python3.12/site-packages (from openai) (4.66.4)\n",
      "Requirement already satisfied: aiohttp in /opt/anaconda3/lib/python3.12/site-packages (from openai) (3.9.5)\n",
      "Requirement already satisfied: charset-normalizer<4,>=2 in /opt/anaconda3/lib/python3.12/site-packages (from requests>=2.20->openai) (2.0.4)\n",
      "Requirement already satisfied: idna<4,>=2.5 in /opt/anaconda3/lib/python3.12/site-packages (from requests>=2.20->openai) (3.7)\n",
      "Requirement already satisfied: urllib3<3,>=1.21.1 in /opt/anaconda3/lib/python3.12/site-packages (from requests>=2.20->openai) (2.2.2)\n",
      "Requirement already satisfied: certifi>=2017.4.17 in /opt/anaconda3/lib/python3.12/site-packages (from requests>=2.20->openai) (2024.8.30)\n",
      "Requirement already satisfied: aiosignal>=1.1.2 in /opt/anaconda3/lib/python3.12/site-packages (from aiohttp->openai) (1.2.0)\n",
      "Requirement already satisfied: attrs>=17.3.0 in /opt/anaconda3/lib/python3.12/site-packages (from aiohttp->openai) (23.1.0)\n",
      "Requirement already satisfied: frozenlist>=1.1.1 in /opt/anaconda3/lib/python3.12/site-packages (from aiohttp->openai) (1.4.0)\n",
      "Requirement already satisfied: multidict<7.0,>=4.5 in /opt/anaconda3/lib/python3.12/site-packages (from aiohttp->openai) (6.0.4)\n",
      "Requirement already satisfied: yarl<2.0,>=1.0 in /opt/anaconda3/lib/python3.12/site-packages (from aiohttp->openai) (1.9.3)\n"
     ]
    }
   ],
   "source": [
    "# import openai \n",
    "!pip install openai\n",
    "import openai"
   ]
  },
  {
   "cell_type": "code",
   "execution_count": 10,
   "metadata": {},
   "outputs": [],
   "source": [
    "openai.api_key = \"API_KEY\""
   ]
  },
  {
   "cell_type": "code",
   "execution_count": 13,
   "metadata": {},
   "outputs": [
    {
     "name": "stdout",
     "output_type": "stream",
     "text": [
      "As of my last knowledge update in October 2023, I can't provide real-time data or specific trends for 2024. However, I can outline some general trends and factors that were influencing startup investment in the healthcare industry leading into 2024, which may still be relevant.\n",
      "\n",
      "1. **Telehealth and Remote Care**: The COVID-19 pandemic accelerated the adoption of telehealth services, and this trend was expected to continue. Startups focusing on telemedicine platforms, remote patient monitoring, and virtual care solutions were likely to attract significant investment.\n",
      "\n",
      "2. **Digital Health Solutions**: There was a growing interest in digital health technologies, including mobile health apps, wearable devices, and health data analytics. Startups that leverage AI and machine learning to improve patient outcomes and streamline healthcare processes were particularly appealing to investors.\n",
      "\n",
      "3. **Personalized Medicine**: Advances in genomics and biotechnology were driving interest in personalized medicine. Startups that offer tailored treatment plans based on genetic information or other individual health data were likely to see increased investment.\n",
      "\n",
      "4. **Mental Health Technologies**: The rising awareness of mental health issues and the demand for accessible mental health services were leading to increased investment in startups that provide digital mental health solutions, including therapy apps and online counseling platforms.\n",
      "\n",
      "5. **Healthcare Accessibility**: Startups focused on improving healthcare access, particularly in underserved communities, were gaining traction. Solutions that address social determinants of health and provide affordable care options were likely to attract funding.\n",
      "\n",
      "6. **Regulatory Changes**: Changes in healthcare regulations and policies could impact investment trends. Startups that navigate regulatory challenges effectively and demonstrate compliance with healthcare laws were more likely to secure funding.\n",
      "\n",
      "7. **Sustainability and Health Equity**: There was a growing emphasis on sustainability and health equity in healthcare. Startups that address environmental health issues or promote equitable access to healthcare services were becoming increasingly attractive to investors.\n",
      "\n",
      "8. **Partnerships and Collaborations**: Collaborations between startups and established healthcare organizations, including hospitals and pharmaceutical companies, were expected to continue. These partnerships can provide startups with resources, expertise, and market access.\n",
      "\n",
      "9. **Investment from Non-Traditional Sources**: Venture capital firms, private equity, and even corporate investors were increasingly looking at healthcare startups as part of their portfolios. Additionally, there was a rise in interest from impact investors focused on social and health outcomes.\n",
      "\n",
      "For the most accurate and up-to-date information on startup investment trends in the healthcare industry for 2024, I recommend consulting industry reports, investment analyses, and news articles from reputable sources.\n"
     ]
    }
   ],
   "source": [
    "# Task 1\n",
    "\n",
    "response = openai.ChatCompletion.create(\n",
    " model=\"gpt-4o-mini\",\n",
    " messages=[\n",
    " {\"role\": \"user\", \"content\": \"Tell me about the trend of startup invesment in Healthcare industry in 2024\"}\n",
    " ],\n",
    " temperature=0)\n",
    "\n",
    "print(response.choices[0].message.content)\n",
    "healthcare_trend = response.choices[0].message.content"
   ]
  },
  {
   "cell_type": "code",
   "execution_count": 29,
   "metadata": {},
   "outputs": [],
   "source": [
    "# Read excel file\n",
    "file_path = \"path to file\" \n",
    "data = pd.read_excel(file_path)\n",
    "\n",
    "# Select columns\n",
    "columns_to_process = [\"Company Name\", \"Industry_label_lvl_1\", \"description\"] \n",
    "startup_data = data[columns_to_process]\n",
    "\n",
    "# Focus on certain industry\n",
    "healthcare_startups = startup_data[startup_data[\"Industry_label_lvl_1\"] == \"Healthcare\"]\n",
    "healthcare_startups = healthcare_startups.drop_duplicates()\n",
    "healthcare_startups.duplicated().sum()\n",
    "healthcare_startups\n",
    "\n",
    "# Transfrom data format to json\n",
    "healthcare_startup_json = healthcare_startups.to_json(orient=\"records\")"
   ]
  },
  {
   "cell_type": "code",
   "execution_count": 30,
   "metadata": {},
   "outputs": [
    {
     "name": "stdout",
     "output_type": "stream",
     "text": [
      "ChatGPT Response:\n",
      "Based on the trends in healthcare startups provided earlier, the following companies from the dataset appear to have business models or focuses that differ from the described trends, such as telehealth, AI-driven solutions, digital health, biotechnology, etc. Here are the identified companies along with their descriptions:\n",
      "\n",
      "1. **Woovly**\n",
      "   - **Description**: Online retailer offering multi-category beauty products. The offerings include makeup, face care, hair care, fragrances, maternity beauty products, beauty kits & combos, and more. It allows users to discover brand and get cashbacks, offers, and review of the products. It also allows users to shop from live videos.\n",
      "\n",
      "2. **Webel**\n",
      "   - **Description**: Online marketplace for multi-local services. It enables users to browse a list of available service providers, select the type of service they need, compare, and book professionals on desired date and time. The available services include pet care, beauty, repair, and maintenance services. It also offers in-app payment solutions. The mobile application is available on iOS and Android platforms.\n",
      "\n",
      "3. **Glitzi**\n",
      "   - **Description**: Web and mobile-based platform for availing beauty services at home. Users can schedule various services such as haircuts, makeup, nail treatments, spa services, and more. It also helps in sourcing the material and equipment required for providing services and also conducts training. Its app is available on iOS and Android.\n",
      "\n",
      "4. **Luxy Hair**\n",
      "   - **Description**: A company that primarily focuses on beauty products related to hair extensions and wigs.\n",
      "\n",
      "5. **Kanvas Biosciences**\n",
      "   - **Description**: Provider of imaging solutions for microbial research and infectious diseases. \n",
      "\n",
      "6. **Konvy**\n",
      "   - **Description**: Online marketplace offering multi-category beauty and cosmetics products. The products catalog includes skin care, makeup products, products for men, grooming products, fragrances, and more.\n",
      "\n",
      "7. **Chefaa**\n",
      "   - **Description**: Chefaa is an online pharmacy. The company has developed an app to search for medicines and order online. The app provides reminders for medical appointments. The medicines are delivered to the user. The user can make an online payment. The app also offers discounts on medicines.\n",
      "\n",
      "None of these companies focus primarily on the healthcare trends such as telehealth, AI-driven diagnostics, biotechnology for drug development, or digital health solutions directly associated with patient care or wellness management. Instead, they are more aligned with beauty products, beauty services, or general wellness without a significant focus on healthcare advancements.\n"
     ]
    }
   ],
   "source": [
    "# Make chatgpt remember the previous response\n",
    "messages = [\n",
    "    {\"role\": \"system\", \"content\": \"You are a data preprocessing assistant.\"},\n",
    "    {\"role\": \"user\", \"content\": \"Tell me about the trend of Startup investment in Healthcare industry in 2024\"},\n",
    "    {\"role\": \"assistant\", \"content\": healthcare_trend},\n",
    "    {\n",
    "        \"role\": \"user\",\n",
    "        \"content\": (\n",
    "            \"You are a data scientist. Here is the dataset in JSON format:\\n\"\n",
    "            f\"{healthcare_startup_json}\\n\\n\"\n",
    "            \"Based on the previous trends in healthcare startups you provided, identify companies in the dataset \"\n",
    "            \"that have businesses different from the described trends. Return their names and descriptions.\"\n",
    "        )\n",
    "    }\n",
    "]\n",
    "\n",
    "# ChatGPT API\n",
    "response = openai.ChatCompletion.create(\n",
    "    model=\"gpt-4o-mini\",\n",
    "    messages=messages\n",
    ")\n",
    "\n",
    "# print result\n",
    "assistant_reply = response['choices'][0]['message']['content']\n",
    "print(\"ChatGPT Response:\")\n",
    "print(assistant_reply)"
   ]
  },
  {
   "cell_type": "code",
   "execution_count": 33,
   "metadata": {},
   "outputs": [
    {
     "name": "stdout",
     "output_type": "stream",
     "text": [
      "Total spending in Korean won: 4.891827\n"
     ]
    }
   ],
   "source": [
    "# Check Billing\n",
    "\n",
    "total_bill_USD = response.usage.prompt_tokens * 0.15/1000000 + response.usage.completion_tokens * 0.6/1000000\n",
    "total_bill_WON = total_bill_USD*1390\n",
    "print(\"Total spending in Korean won: {}\".format(total_bill_WON))"
   ]
  },
  {
   "cell_type": "code",
   "execution_count": null,
   "metadata": {},
   "outputs": [],
   "source": []
  }
 ],
 "metadata": {
  "kernelspec": {
   "display_name": "base",
   "language": "python",
   "name": "python3"
  },
  "language_info": {
   "codemirror_mode": {
    "name": "ipython",
    "version": 3
   },
   "file_extension": ".py",
   "mimetype": "text/x-python",
   "name": "python",
   "nbconvert_exporter": "python",
   "pygments_lexer": "ipython3",
   "version": "3.12.4"
  }
 },
 "nbformat": 4,
 "nbformat_minor": 2
}
